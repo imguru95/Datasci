{
 "cells": [
  {
   "cell_type": "code",
   "execution_count": 1,
   "id": "c35fc1c2",
   "metadata": {},
   "outputs": [],
   "source": [
    "import pandas as pd\n",
    "import numpy as np\n",
    "import matplotlib.pyplot as plt\n",
    "import random\n",
    "import math"
   ]
  },
  {
   "cell_type": "code",
   "execution_count": 2,
   "id": "15dee998",
   "metadata": {},
   "outputs": [],
   "source": [
    "ratings = np.zeros((200, 1000))\n",
    "ratings_tf = np.full((200, 1000), False)\n",
    "train = open(\"train.txt\", \"r\")\n",
    "for t in train:\n",
    "    user, movie, rating = t[:-1].split(\" \")\n",
    "    user, movie, rating = int(user), int(movie), int(rating)\n",
    "    ratings[user-1][movie-1] = rating\n",
    "    ratings_tf[user-1][movie-1] = True\n",
    "train.close()\n",
    "user_averages = [sum(ratings[i])/sum(ratings_tf[i]) for i in range(len(ratings))]"
   ]
  },
  {
   "cell_type": "code",
   "execution_count": 3,
   "id": "054fd47f",
   "metadata": {},
   "outputs": [],
   "source": [
    "test5_ratings = np.zeros((100, 1000))\n",
    "test5_ratings_tf = np.full((100, 1000), False)\n",
    "test5 = open(\"test5.txt\", \"r\")\n",
    "for t in test5:\n",
    "    user, movie, rating = t[:-1].split(\" \")\n",
    "    user, movie, rating = int(user), int(movie), int(rating)\n",
    "    test5_ratings[user-201][movie-1] = rating\n",
    "    test5_ratings_tf[user-201][movie-1] = True\n",
    "test5.close()"
   ]
  },
  {
   "cell_type": "code",
   "execution_count": 4,
   "id": "40ae99ae",
   "metadata": {},
   "outputs": [],
   "source": [
    "test10_ratings = np.zeros((100, 1000))\n",
    "test10_ratings_tf = np.full((100, 1000), False)\n",
    "test10 = open(\"test10.txt\", \"r\")\n",
    "for t in test10:\n",
    "    user, movie, rating = t[:-1].split(\" \")\n",
    "    user, movie, rating = int(user), int(movie), int(rating)\n",
    "    test10_ratings[user-301][movie-1] = rating\n",
    "    test10_ratings_tf[user-301][movie-1] = True\n",
    "test10.close()"
   ]
  },
  {
   "cell_type": "code",
   "execution_count": 5,
   "id": "2d8065bd",
   "metadata": {},
   "outputs": [],
   "source": [
    "test20_ratings = np.zeros((100, 1000))\n",
    "test20_ratings_tf = np.full((100, 1000), False)\n",
    "test20 = open(\"test20.txt\", \"r\")\n",
    "for t in test20:\n",
    "    user, movie, rating = t[:-1].split(\" \")\n",
    "    user, movie, rating = int(user), int(movie), int(rating)\n",
    "    test20_ratings[user-401][movie-1] = rating\n",
    "    test20_ratings_tf[user-401][movie-1] = True\n",
    "test20.close()"
   ]
  },
  {
   "cell_type": "code",
   "execution_count": 6,
   "id": "a8e74a8f",
   "metadata": {},
   "outputs": [],
   "source": [
    "test_ratings_list = [test5_ratings, test10_ratings, test20_ratings]\n",
    "test_ratings_tf_list = [test5_ratings_tf, test10_ratings_tf, test20_ratings_tf]"
   ]
  },
  {
   "cell_type": "code",
   "execution_count": 7,
   "id": "86cbb345",
   "metadata": {},
   "outputs": [],
   "source": [
    "result5_user_cosine = open(\"result5_user_cosine.txt\", \"w\")\n",
    "result10_user_cosine = open(\"result10_user_cosine.txt\", \"w\")\n",
    "result20_user_cosine = open(\"result20_user_cosine.txt\", \"w\")\n",
    "\n",
    "result5_user_pearson = open(\"result5_user_pearson.txt\", \"w\")\n",
    "result10_user_pearson = open(\"result10_user_pearson.txt\", \"w\")\n",
    "result20_user_pearson = open(\"result20_user_pearson.txt\", \"w\")\n",
    "\n",
    "result5_item_cosine = open(\"result5_item_cosine.txt\", \"w\")\n",
    "result10_item_cosine = open(\"result10_item_cosine.txt\", \"w\")\n",
    "result20_item_cosine = open(\"result20_item_cosine.txt\", \"w\")\n",
    "\n",
    "result_files_user_cosine = [result5_user_cosine, result10_user_cosine, result20_user_cosine]\n",
    "result_files_user_pearson = [result5_user_pearson, result10_user_pearson, result20_user_pearson]\n",
    "result_files_item_cosine = [result5_item_cosine, result10_item_cosine, result20_item_cosine]"
   ]
  },
  {
   "cell_type": "code",
   "execution_count": 8,
   "id": "e24ca0e4",
   "metadata": {},
   "outputs": [],
   "source": [
    "def cosine_similarity(x, y):\n",
    "    numerator = sum(x*y)\n",
    "    denominator = math.sqrt(sum(x**2)*sum(y**2))\n",
    "    cosine_sim = numerator/denominator\n",
    "    return cosine_sim"
   ]
  },
  {
   "cell_type": "code",
   "execution_count": 9,
   "id": "f583b827",
   "metadata": {},
   "outputs": [],
   "source": [
    "def adjusted_cosine_similarity(x, y, l):\n",
    "    x = x - l\n",
    "    y = y - l\n",
    "    numerator = sum(x*y)\n",
    "    denominator = math.sqrt(sum(x**2)*sum(y**2))\n",
    "    adjusted_cosine_sim = numerator/denominator\n",
    "    return adjusted_cosine_sim"
   ]
  },
  {
   "cell_type": "code",
   "execution_count": 10,
   "id": "0c741e2f",
   "metadata": {},
   "outputs": [],
   "source": [
    "def pearson_correlation(x, y):\n",
    "    x_avg = sum(x)/len(x)\n",
    "    y_avg = sum(y)/len(y)\n",
    "    x = x-x_avg\n",
    "    y = y-y_avg\n",
    "    numerator = sum(x*y)\n",
    "    denominator = math.sqrt(sum(x**2)*sum(y**2))\n",
    "    pearson_corr = numerator/denominator\n",
    "    return pearson_corr"
   ]
  },
  {
   "cell_type": "markdown",
   "id": "0d145f80",
   "metadata": {},
   "source": [
    "# User-Based Collaborative Filtering Algorithms"
   ]
  },
  {
   "cell_type": "code",
   "execution_count": 11,
   "id": "7c574a91",
   "metadata": {},
   "outputs": [],
   "source": [
    "user_similarity_array_cosine = np.zeros((ratings.shape[0])) #user similarity matrix\n",
    "user_similarity_array_pearson = np.zeros((ratings.shape[0]))\n",
    "for t in range(len(test_ratings_list)):\n",
    "    file_cosine = result_files_user_cosine[t]\n",
    "    file_pearson = result_files_user_pearson[t]\n",
    "    n = -1\n",
    "    for i in range(len(test_ratings_list[t])):\n",
    "        current_user_avg_rating = sum(test_ratings_list[t][i])/sum(test_ratings_tf_list[t][i])\n",
    "        for j in range(ratings.shape[0]):\n",
    "            user_similarity_array_cosine[j] = cosine_similarity(ratings[j], test_ratings_list[t][i])\n",
    "            user_similarity_array_pearson[j] = pearson_correlation(ratings[j], test_ratings_list[t][i])\n",
    "        s1 = 30#number of similar users(cosine similarity)\n",
    "        s2 = 30#number of similar users(pearson correlation)\n",
    "        most_similar_users_cosine = np.argsort(user_similarity_array_cosine)[-s1:]\n",
    "        most_similar_users_pearson = np.argsort(user_similarity_array_pearson)[-s2:]\n",
    "        for j in range(ratings.shape[1]):\n",
    "            if test_ratings_list[t][i][j] == 0 and test_ratings_tf_list[t][i][j]:\n",
    "                n += 1\n",
    "                numerator = 0\n",
    "                denominator = 0\n",
    "                numerator_pearson = 0\n",
    "                denominator_pearson = 0\n",
    "                for similar_user in most_similar_users_cosine:\n",
    "                    if ratings[similar_user][j] != 0:\n",
    "                        numerator += user_similarity_array_cosine[similar_user]*ratings[similar_user][j]#ratings or ratings_new?\n",
    "                        denominator += user_similarity_array_cosine[similar_user]\n",
    "                        numerator_pearson += abs(user_similarity_array_pearson[similar_user])*abs(ratings[similar_user][j] - user_averages[similar_user])\n",
    "                        denominator_pearson += abs(user_similarity_array_pearson[similar_user])\n",
    "                pred_rating_cosine = numerator/denominator if denominator != 0 else random.randint(1, 5) #else random int between 1 and 5\n",
    "                if denominator_pearson != 0:\n",
    "                    pred_rating_pearson = current_user_avg_rating + (numerator_pearson/denominator_pearson)\n",
    "                else:\n",
    "                    pred_rating_pearson = random.randint(1, 5)\n",
    "                a, b, c = str(int(i + 100*t + 201)), str(int(j + 1)), str(int(round(pred_rating_cosine)))\n",
    "                d = int(round(abs(pred_rating_pearson)))\n",
    "                if d == 0:\n",
    "                    d = str(\"1\")\n",
    "                else:\n",
    "                    d = str(d)\n",
    "                line_cosine = a + \" \" + b + \" \" + c\n",
    "                line_pearson = a + \" \" + b + \" \" + d\n",
    "                file_cosine.write(line_cosine+\"\\n\")\n",
    "                file_pearson.write(line_pearson+\"\\n\")\n",
    "    file_cosine.close()\n",
    "    file_pearson.close()"
   ]
  },
  {
   "cell_type": "markdown",
   "id": "b1fde077",
   "metadata": {},
   "source": [
    "# Item-based collaborative filtering"
   ]
  },
  {
   "cell_type": "code",
   "execution_count": 12,
   "id": "097e8dca",
   "metadata": {},
   "outputs": [],
   "source": [
    "for t in range(len(test_ratings_list)):\n",
    "    file_cosine = result_files_item_cosine[t]\n",
    "    for i in range(len(test_ratings_list[t])):\n",
    "        ratings_new = np.concatenate((ratings, [test_ratings_list[t][i]]), axis=0)#concatenate\n",
    "        ratings_transpose = np.transpose(ratings_new)#transpose\n",
    "        curr_user_avg_rating = sum(ratings_new[200])/sum(test_ratings_tf_list[t][i])\n",
    "        l = user_averages[:]\n",
    "        l.append(curr_user_avg_rating)\n",
    "        for j in range(ratings_transpose.shape[0]):\n",
    "            if ratings_transpose[j][200] == 0 and test_ratings_tf_list[t][i][j]:\n",
    "                item_similarity_array_cosine = np.zeros(ratings_transpose.shape[0])\n",
    "                for k in range(ratings_transpose.shape[0]):\n",
    "                    item_similarity_array_cosine[k] = adjusted_cosine_similarity(ratings_transpose[k], ratings_transpose[j], l)\n",
    "                \n",
    "                most_similar_items = np.argsort(item_similarity_array_cosine)[-20:]\n",
    "                numerator = 0\n",
    "                denominator = 0\n",
    "                for similar_item in most_similar_items:\n",
    "                    if ratings_transpose[similar_item][-1] != 0:\n",
    "                        numerator += item_similarity_array_cosine[similar_item]*ratings_transpose[similar_item][-1]\n",
    "                        denominator += item_similarity_array_cosine[similar_item]\n",
    "                if denominator != 0:\n",
    "                    if numerator == 0:\n",
    "                        pred_rating = user_averages[i]\n",
    "                    else:\n",
    "                        pred_rating = numerator/denominator\n",
    "                else:\n",
    "                    pred_rating = user_averages[i]\n",
    "                a, b, c = str(int(i + 100*t + 201)), str(int(j + 1)), str(int(round(pred_rating)))\n",
    "                cosine_line = a + \" \" + b + \" \" + c\n",
    "                file_cosine.write(cosine_line+\"\\n\")\n",
    "    file_cosine.close()"
   ]
  }
 ],
 "metadata": {
  "kernelspec": {
   "display_name": "Python 3 (ipykernel)",
   "language": "python",
   "name": "python3"
  },
  "language_info": {
   "codemirror_mode": {
    "name": "ipython",
    "version": 3
   },
   "file_extension": ".py",
   "mimetype": "text/x-python",
   "name": "python",
   "nbconvert_exporter": "python",
   "pygments_lexer": "ipython3",
   "version": "3.9.12"
  }
 },
 "nbformat": 4,
 "nbformat_minor": 5
}
